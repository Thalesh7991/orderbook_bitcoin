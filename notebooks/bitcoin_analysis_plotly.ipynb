{
 "cells": [
  {
   "cell_type": "code",
   "execution_count": 36,
   "metadata": {},
   "outputs": [],
   "source": [
    "from plotly.subplots import make_subplots\n",
    "import plotly.graph_objects as go\n",
    "import matplotlib.pyplot as plt\n",
    "import plotly.express as px\n",
    "\n",
    "# Data\n",
    "import pandas as pd\n",
    "import numpy as np\n",
    "import random\n",
    "\n",
    "import sys\n",
    "sys.path.insert(0, '../src')\n",
    "from data.collector.brasil_bitcoin import LoadBrasilBitcoin\n",
    "from data.collector.mercado_bitcoin import LoadMercadoBitcoin\n",
    "from data.collector.ripio_bitcoin import LoadRipioTrade\n",
    "from data.collector.bitcoin_to_you import LoadBitcoinToYou\n",
    "from data.collector.bitypreco_bitcoin import LoadBityBitcoin\n",
    "from data.collector.bitso_bitcoin import LoadBitsoBitcoin"
   ]
  },
  {
   "cell_type": "markdown",
   "metadata": {},
   "source": [
    "## Functions"
   ]
  },
  {
   "cell_type": "code",
   "execution_count": 37,
   "metadata": {},
   "outputs": [],
   "source": [
    "def area_plot(df, title=''):\n",
    "\n",
    "    df_plt = df.groupby(['empresa', 'preco']).sum().reset_index()\n",
    "    fig = px.area(df, x='preco', y='quantidade', line_group='empresa', color='empresa', width=700, height=500)\n",
    "\n",
    "\n",
    "    fig.update_traces(mode='lines', \n",
    "                      hovertemplate='R$%{:,2f} <br>'.join([\n",
    "                          '%{y:.2f} BTC',]))\n",
    "\n",
    "    fig.update_layout(\n",
    "        xaxis_title='Price',\n",
    "        template='plotly_white',\n",
    "        hovermode='x unified',\n",
    "        title=title,\n",
    "        showlegend=False,\n",
    "        margin=dict(l=50, r=20, t=30, b=30)\n",
    "    )\n",
    "    fig.show()\n",
    "\n",
    "\n",
    "def necessary_quantity(df, price=None, change=1, empresa=''):\n",
    "\n",
    "    df_compras = df.query(f'empresa == \"{empresa}\" & compra_venda == \"compra\"')[['preco', 'quantidade']]\n",
    "    df_vendas = df.query(f'empresa == \"{empresa}\" & compra_venda == \"venda\"')[['preco', 'quantidade']]\n",
    "\n",
    "    if price == None:\n",
    "        # Maior preço de compra e menor preço de venda\n",
    "        best_ask_sell = [df_compras.preco.max(), df_vendas.preco.min()]\n",
    "        price = np.mean(best_ask_sell)\n",
    "\n",
    "    target_price = price * (1 + change/100)\n",
    "    \n",
    "    # quantidade acumulada até chegar ao valor alvo.\n",
    "    quantidade_compra = df_compras.set_index('preco').cumsum().reset_index().query(f'preco <= {target_price}').iloc[0].quantidade\n",
    "\n",
    "    quantidade_venda = df_vendas.set_index('preco').cumsum().reset_index().query(f'preco >= {target_price}').iloc[0].quantidade\n",
    "\n",
    "    return [quantidade_compra, quantidade_venda]"
   ]
  },
  {
   "cell_type": "markdown",
   "metadata": {},
   "source": [
    "## Load Data"
   ]
  },
  {
   "cell_type": "code",
   "execution_count": 38,
   "metadata": {},
   "outputs": [],
   "source": [
    "lbb = LoadBrasilBitcoin()\n",
    "brasil_data = lbb.get_brasil_bitcoin_orderbook()\n",
    "\n",
    "\n",
    "lmb = LoadMercadoBitcoin()\n",
    "mercado_data = lmb.get_mercado_bitcoin_orderbook()\n",
    "\n",
    "lrt = LoadRipioTrade()\n",
    "ripio_data = lrt.get_ripio_bitcoin_orderbook()\n",
    "\n",
    "bitso = LoadBitsoBitcoin()\n",
    "bitso_data = bitso.get_bitso_bitcoin_orderbook()\n",
    "\n",
    "bity = LoadBityBitcoin()\n",
    "bity_data = bity.get_bity_bitcoin_orderbook()\n",
    "\n",
    "\n",
    "#b2u = LoadBitcoinToYou()  -  Valores Estranhos\n",
    "#b2u_data = b2u.get_btou_bitcoin_orderbook()\n"
   ]
  },
  {
   "cell_type": "code",
   "execution_count": 39,
   "metadata": {},
   "outputs": [],
   "source": [
    "# bitso_data.rename(columns={''}).isnull().sum()"
   ]
  },
  {
   "cell_type": "code",
   "execution_count": 40,
   "metadata": {},
   "outputs": [],
   "source": [
    "bitso_data = bitso_data.rename(columns={'book': 'id', 'price': 'preco', 'amount': 'quantidade'})\n",
    "bity_data = bity_data.rename(columns={'amount': 'quantidade', 'price': 'preco'})#.isnull().sum()"
   ]
  },
  {
   "cell_type": "code",
   "execution_count": 41,
   "metadata": {},
   "outputs": [],
   "source": [
    "bitcoin_df = pd.concat([brasil_data, ripio_data, \n",
    "                        mercado_data, \n",
    "                        bitso_data, \n",
    "                        bity_data\n",
    "                        ])\n",
    "bitcoin_df['preco'] = bitcoin_df['preco'].astype(float).astype(int)\n",
    "bitcoin_df['quantidade'] = bitcoin_df['quantidade'].astype(float)"
   ]
  },
  {
   "cell_type": "code",
   "execution_count": 42,
   "metadata": {},
   "outputs": [
    {
     "data": {
      "text/html": [
       "<div>\n",
       "<style scoped>\n",
       "    .dataframe tbody tr th:only-of-type {\n",
       "        vertical-align: middle;\n",
       "    }\n",
       "\n",
       "    .dataframe tbody tr th {\n",
       "        vertical-align: top;\n",
       "    }\n",
       "\n",
       "    .dataframe thead th {\n",
       "        text-align: right;\n",
       "    }\n",
       "</style>\n",
       "<table border=\"1\" class=\"dataframe\">\n",
       "  <thead>\n",
       "    <tr style=\"text-align: right;\">\n",
       "      <th></th>\n",
       "      <th>preco</th>\n",
       "      <th>quantidade</th>\n",
       "      <th>compra_venda</th>\n",
       "      <th>empresa</th>\n",
       "      <th>id</th>\n",
       "      <th>valor</th>\n",
       "    </tr>\n",
       "  </thead>\n",
       "  <tbody>\n",
       "    <tr>\n",
       "      <th>44</th>\n",
       "      <td>948654</td>\n",
       "      <td>0.004333</td>\n",
       "      <td>venda</td>\n",
       "      <td>Bitso Bitcoin</td>\n",
       "      <td>NaN</td>\n",
       "      <td>NaN</td>\n",
       "    </tr>\n",
       "    <tr>\n",
       "      <th>43</th>\n",
       "      <td>931380</td>\n",
       "      <td>1.000000</td>\n",
       "      <td>venda</td>\n",
       "      <td>Bitso Bitcoin</td>\n",
       "      <td>NaN</td>\n",
       "      <td>NaN</td>\n",
       "    </tr>\n",
       "    <tr>\n",
       "      <th>42</th>\n",
       "      <td>260625</td>\n",
       "      <td>0.005514</td>\n",
       "      <td>venda</td>\n",
       "      <td>Bitso Bitcoin</td>\n",
       "      <td>NaN</td>\n",
       "      <td>NaN</td>\n",
       "    </tr>\n",
       "    <tr>\n",
       "      <th>41</th>\n",
       "      <td>227990</td>\n",
       "      <td>0.106489</td>\n",
       "      <td>venda</td>\n",
       "      <td>Bitso Bitcoin</td>\n",
       "      <td>NaN</td>\n",
       "      <td>NaN</td>\n",
       "    </tr>\n",
       "    <tr>\n",
       "      <th>40</th>\n",
       "      <td>225850</td>\n",
       "      <td>0.115000</td>\n",
       "      <td>venda</td>\n",
       "      <td>Bitso Bitcoin</td>\n",
       "      <td>NaN</td>\n",
       "      <td>NaN</td>\n",
       "    </tr>\n",
       "    <tr>\n",
       "      <th>...</th>\n",
       "      <td>...</td>\n",
       "      <td>...</td>\n",
       "      <td>...</td>\n",
       "      <td>...</td>\n",
       "      <td>...</td>\n",
       "      <td>...</td>\n",
       "    </tr>\n",
       "    <tr>\n",
       "      <th>46</th>\n",
       "      <td>185001</td>\n",
       "      <td>0.027027</td>\n",
       "      <td>compra</td>\n",
       "      <td>Brasil Bitcoin</td>\n",
       "      <td>NaN</td>\n",
       "      <td>NaN</td>\n",
       "    </tr>\n",
       "    <tr>\n",
       "      <th>48</th>\n",
       "      <td>185000</td>\n",
       "      <td>0.001455</td>\n",
       "      <td>compra</td>\n",
       "      <td>Brasil Bitcoin</td>\n",
       "      <td>NaN</td>\n",
       "      <td>NaN</td>\n",
       "    </tr>\n",
       "    <tr>\n",
       "      <th>47</th>\n",
       "      <td>185000</td>\n",
       "      <td>0.000396</td>\n",
       "      <td>compra</td>\n",
       "      <td>Brasil Bitcoin</td>\n",
       "      <td>NaN</td>\n",
       "      <td>NaN</td>\n",
       "    </tr>\n",
       "    <tr>\n",
       "      <th>49</th>\n",
       "      <td>185000</td>\n",
       "      <td>0.000340</td>\n",
       "      <td>compra</td>\n",
       "      <td>Brasil Bitcoin</td>\n",
       "      <td>NaN</td>\n",
       "      <td>NaN</td>\n",
       "    </tr>\n",
       "    <tr>\n",
       "      <th>30</th>\n",
       "      <td>88200</td>\n",
       "      <td>0.126050</td>\n",
       "      <td>compra</td>\n",
       "      <td>Bitso Bitcoin</td>\n",
       "      <td>NaN</td>\n",
       "      <td>NaN</td>\n",
       "    </tr>\n",
       "  </tbody>\n",
       "</table>\n",
       "<p>656 rows × 6 columns</p>\n",
       "</div>"
      ],
      "text/plain": [
       "     preco  quantidade compra_venda         empresa   id  valor\n",
       "44  948654    0.004333        venda   Bitso Bitcoin  NaN    NaN\n",
       "43  931380    1.000000        venda   Bitso Bitcoin  NaN    NaN\n",
       "42  260625    0.005514        venda   Bitso Bitcoin  NaN    NaN\n",
       "41  227990    0.106489        venda   Bitso Bitcoin  NaN    NaN\n",
       "40  225850    0.115000        venda   Bitso Bitcoin  NaN    NaN\n",
       "..     ...         ...          ...             ...  ...    ...\n",
       "46  185001    0.027027       compra  Brasil Bitcoin  NaN    NaN\n",
       "48  185000    0.001455       compra  Brasil Bitcoin  NaN    NaN\n",
       "47  185000    0.000396       compra  Brasil Bitcoin  NaN    NaN\n",
       "49  185000    0.000340       compra  Brasil Bitcoin  NaN    NaN\n",
       "30   88200    0.126050       compra   Bitso Bitcoin  NaN    NaN\n",
       "\n",
       "[656 rows x 6 columns]"
      ]
     },
     "execution_count": 42,
     "metadata": {},
     "output_type": "execute_result"
    }
   ],
   "source": [
    "bitcoin_df.sort_values('preco', ascending=False)"
   ]
  },
  {
   "cell_type": "code",
   "execution_count": 44,
   "metadata": {},
   "outputs": [
    {
     "ename": "ValueError",
     "evalue": "Mime type rendering requires nbformat>=4.2.0 but it is not installed",
     "output_type": "error",
     "traceback": [
      "\u001b[1;31m---------------------------------------------------------------------------\u001b[0m",
      "\u001b[1;31mValueError\u001b[0m                                Traceback (most recent call last)",
      "Cell \u001b[1;32mIn[44], line 1\u001b[0m\n\u001b[1;32m----> 1\u001b[0m \u001b[43marea_plot\u001b[49m\u001b[43m(\u001b[49m\u001b[43mbitcoin_df\u001b[49m\u001b[38;5;241;43m.\u001b[39;49m\u001b[43mquery\u001b[49m\u001b[43m(\u001b[49m\u001b[38;5;124;43m'\u001b[39;49m\u001b[38;5;124;43mcompra_venda == \u001b[39;49m\u001b[38;5;124;43m\"\u001b[39;49m\u001b[38;5;124;43mvenda\u001b[39;49m\u001b[38;5;124;43m\"\u001b[39;49m\u001b[38;5;124;43m'\u001b[39;49m\u001b[43m)\u001b[49m\u001b[43m,\u001b[49m\u001b[43m \u001b[49m\u001b[43mtitle\u001b[49m\u001b[38;5;241;43m=\u001b[39;49m\u001b[38;5;124;43m'\u001b[39;49m\u001b[38;5;124;43mOrdem de Vendas\u001b[39;49m\u001b[38;5;124;43m'\u001b[39;49m\u001b[43m)\u001b[49m\n",
      "Cell \u001b[1;32mIn[37], line 19\u001b[0m, in \u001b[0;36marea_plot\u001b[1;34m(df, title)\u001b[0m\n\u001b[0;32m      7\u001b[0m fig\u001b[38;5;241m.\u001b[39mupdate_traces(mode\u001b[38;5;241m=\u001b[39m\u001b[38;5;124m'\u001b[39m\u001b[38;5;124mlines\u001b[39m\u001b[38;5;124m'\u001b[39m, \n\u001b[0;32m      8\u001b[0m                   hovertemplate\u001b[38;5;241m=\u001b[39m\u001b[38;5;124m'\u001b[39m\u001b[38;5;124mR$\u001b[39m\u001b[38;5;124m%\u001b[39m\u001b[38;5;124m{\u001b[39m\u001b[38;5;124m:,2f} <br>\u001b[39m\u001b[38;5;124m'\u001b[39m\u001b[38;5;241m.\u001b[39mjoin([\n\u001b[0;32m      9\u001b[0m                       \u001b[38;5;124m'\u001b[39m\u001b[38;5;124m%\u001b[39m\u001b[38;5;132;01m{y:.2f}\u001b[39;00m\u001b[38;5;124m BTC\u001b[39m\u001b[38;5;124m'\u001b[39m,]))\n\u001b[0;32m     11\u001b[0m fig\u001b[38;5;241m.\u001b[39mupdate_layout(\n\u001b[0;32m     12\u001b[0m     xaxis_title\u001b[38;5;241m=\u001b[39m\u001b[38;5;124m'\u001b[39m\u001b[38;5;124mPrice\u001b[39m\u001b[38;5;124m'\u001b[39m,\n\u001b[0;32m     13\u001b[0m     template\u001b[38;5;241m=\u001b[39m\u001b[38;5;124m'\u001b[39m\u001b[38;5;124mplotly_white\u001b[39m\u001b[38;5;124m'\u001b[39m,\n\u001b[1;32m   (...)\u001b[0m\n\u001b[0;32m     17\u001b[0m     margin\u001b[38;5;241m=\u001b[39m\u001b[38;5;28mdict\u001b[39m(l\u001b[38;5;241m=\u001b[39m\u001b[38;5;241m50\u001b[39m, r\u001b[38;5;241m=\u001b[39m\u001b[38;5;241m20\u001b[39m, t\u001b[38;5;241m=\u001b[39m\u001b[38;5;241m30\u001b[39m, b\u001b[38;5;241m=\u001b[39m\u001b[38;5;241m30\u001b[39m)\n\u001b[0;32m     18\u001b[0m )\n\u001b[1;32m---> 19\u001b[0m \u001b[43mfig\u001b[49m\u001b[38;5;241;43m.\u001b[39;49m\u001b[43mshow\u001b[49m\u001b[43m(\u001b[49m\u001b[43m)\u001b[49m\n",
      "File \u001b[1;32mc:\\Users\\thale\\Documents\\Projetos_DS\\Empresa Jr\\env\\Lib\\site-packages\\plotly\\basedatatypes.py:3410\u001b[0m, in \u001b[0;36mBaseFigure.show\u001b[1;34m(self, *args, **kwargs)\u001b[0m\n\u001b[0;32m   3377\u001b[0m \u001b[38;5;250m\u001b[39m\u001b[38;5;124;03m\"\"\"\u001b[39;00m\n\u001b[0;32m   3378\u001b[0m \u001b[38;5;124;03mShow a figure using either the default renderer(s) or the renderer(s)\u001b[39;00m\n\u001b[0;32m   3379\u001b[0m \u001b[38;5;124;03mspecified by the renderer argument\u001b[39;00m\n\u001b[1;32m   (...)\u001b[0m\n\u001b[0;32m   3406\u001b[0m \u001b[38;5;124;03mNone\u001b[39;00m\n\u001b[0;32m   3407\u001b[0m \u001b[38;5;124;03m\"\"\"\u001b[39;00m\n\u001b[0;32m   3408\u001b[0m \u001b[38;5;28;01mimport\u001b[39;00m \u001b[38;5;21;01mplotly\u001b[39;00m\u001b[38;5;21;01m.\u001b[39;00m\u001b[38;5;21;01mio\u001b[39;00m \u001b[38;5;28;01mas\u001b[39;00m \u001b[38;5;21;01mpio\u001b[39;00m\n\u001b[1;32m-> 3410\u001b[0m \u001b[38;5;28;01mreturn\u001b[39;00m \u001b[43mpio\u001b[49m\u001b[38;5;241;43m.\u001b[39;49m\u001b[43mshow\u001b[49m\u001b[43m(\u001b[49m\u001b[38;5;28;43mself\u001b[39;49m\u001b[43m,\u001b[49m\u001b[43m \u001b[49m\u001b[38;5;241;43m*\u001b[39;49m\u001b[43margs\u001b[49m\u001b[43m,\u001b[49m\u001b[43m \u001b[49m\u001b[38;5;241;43m*\u001b[39;49m\u001b[38;5;241;43m*\u001b[39;49m\u001b[43mkwargs\u001b[49m\u001b[43m)\u001b[49m\n",
      "File \u001b[1;32mc:\\Users\\thale\\Documents\\Projetos_DS\\Empresa Jr\\env\\Lib\\site-packages\\plotly\\io\\_renderers.py:394\u001b[0m, in \u001b[0;36mshow\u001b[1;34m(fig, renderer, validate, **kwargs)\u001b[0m\n\u001b[0;32m    389\u001b[0m         \u001b[38;5;28;01mraise\u001b[39;00m \u001b[38;5;167;01mValueError\u001b[39;00m(\n\u001b[0;32m    390\u001b[0m             \u001b[38;5;124m\"\u001b[39m\u001b[38;5;124mMime type rendering requires ipython but it is not installed\u001b[39m\u001b[38;5;124m\"\u001b[39m\n\u001b[0;32m    391\u001b[0m         )\n\u001b[0;32m    393\u001b[0m     \u001b[38;5;28;01mif\u001b[39;00m \u001b[38;5;129;01mnot\u001b[39;00m nbformat \u001b[38;5;129;01mor\u001b[39;00m Version(nbformat\u001b[38;5;241m.\u001b[39m__version__) \u001b[38;5;241m<\u001b[39m Version(\u001b[38;5;124m\"\u001b[39m\u001b[38;5;124m4.2.0\u001b[39m\u001b[38;5;124m\"\u001b[39m):\n\u001b[1;32m--> 394\u001b[0m         \u001b[38;5;28;01mraise\u001b[39;00m \u001b[38;5;167;01mValueError\u001b[39;00m(\n\u001b[0;32m    395\u001b[0m             \u001b[38;5;124m\"\u001b[39m\u001b[38;5;124mMime type rendering requires nbformat>=4.2.0 but it is not installed\u001b[39m\u001b[38;5;124m\"\u001b[39m\n\u001b[0;32m    396\u001b[0m         )\n\u001b[0;32m    398\u001b[0m     ipython_display\u001b[38;5;241m.\u001b[39mdisplay(bundle, raw\u001b[38;5;241m=\u001b[39m\u001b[38;5;28;01mTrue\u001b[39;00m)\n\u001b[0;32m    400\u001b[0m \u001b[38;5;66;03m# external renderers\u001b[39;00m\n",
      "\u001b[1;31mValueError\u001b[0m: Mime type rendering requires nbformat>=4.2.0 but it is not installed"
     ]
    }
   ],
   "source": [
    "area_plot(bitcoin_df.query('compra_venda == \"venda\"'), title='Ordem de Vendas')"
   ]
  },
  {
   "cell_type": "code",
   "execution_count": null,
   "metadata": {},
   "outputs": [],
   "source": [
    "maior_preco_compra = bitcoin_df.query('compra_venda == \"compra\"').preco.max()\n",
    "menor_preco_venda = brasil_data.query('compra_venda == \"venda\"').preco.min()\n",
    "\n",
    "best_ask_sell = [maior_preco_compra, menor_preco_venda]\n",
    "\n",
    "# Preco\n",
    "P = np.mean(best_ask_sell)"
   ]
  },
  {
   "cell_type": "code",
   "execution_count": null,
   "metadata": {},
   "outputs": [],
   "source": [
    "empresas = bitcoin_df['empresa'].unique()\n",
    " \n",
    "price_changes_qt = {f'{empresa}': necessary_quantity(df=bitcoin_df, change=1, empresa=empresa) for empresa in empresas}\n",
    "changes = pd.DataFrame(price_changes_qt).T.reset_index().rename(columns={0: 'quantidade_compra', 1:'quantidade_venda', 'index': 'empresa'})"
   ]
  },
  {
   "cell_type": "code",
   "execution_count": null,
   "metadata": {},
   "outputs": [
    {
     "data": {
      "text/html": [
       "<div>\n",
       "<style scoped>\n",
       "    .dataframe tbody tr th:only-of-type {\n",
       "        vertical-align: middle;\n",
       "    }\n",
       "\n",
       "    .dataframe tbody tr th {\n",
       "        vertical-align: top;\n",
       "    }\n",
       "\n",
       "    .dataframe thead th {\n",
       "        text-align: right;\n",
       "    }\n",
       "</style>\n",
       "<table border=\"1\" class=\"dataframe\">\n",
       "  <thead>\n",
       "    <tr style=\"text-align: right;\">\n",
       "      <th></th>\n",
       "      <th>empresa</th>\n",
       "      <th>quantidade_compra</th>\n",
       "      <th>quantidade_venda</th>\n",
       "    </tr>\n",
       "  </thead>\n",
       "  <tbody>\n",
       "    <tr>\n",
       "      <th>0</th>\n",
       "      <td>Brasil Bitcoin</td>\n",
       "      <td>7.249864e-02</td>\n",
       "      <td>1.521454</td>\n",
       "    </tr>\n",
       "    <tr>\n",
       "      <th>1</th>\n",
       "      <td>Ripio Trade</td>\n",
       "      <td>6.600000e-07</td>\n",
       "      <td>0.181428</td>\n",
       "    </tr>\n",
       "    <tr>\n",
       "      <th>2</th>\n",
       "      <td>Mercado Bitcoin</td>\n",
       "      <td>4.500000e-03</td>\n",
       "      <td>3.887645</td>\n",
       "    </tr>\n",
       "    <tr>\n",
       "      <th>3</th>\n",
       "      <td>Bitso Bitcoin</td>\n",
       "      <td>2.797205e-02</td>\n",
       "      <td>3.396470</td>\n",
       "    </tr>\n",
       "    <tr>\n",
       "      <th>4</th>\n",
       "      <td>Bity Preço</td>\n",
       "      <td>5.033068e-01</td>\n",
       "      <td>3.212165</td>\n",
       "    </tr>\n",
       "  </tbody>\n",
       "</table>\n",
       "</div>"
      ],
      "text/plain": [
       "           empresa  quantidade_compra  quantidade_venda\n",
       "0   Brasil Bitcoin       7.249864e-02          1.521454\n",
       "1      Ripio Trade       6.600000e-07          0.181428\n",
       "2  Mercado Bitcoin       4.500000e-03          3.887645\n",
       "3    Bitso Bitcoin       2.797205e-02          3.396470\n",
       "4       Bity Preço       5.033068e-01          3.212165"
      ]
     },
     "execution_count": 34,
     "metadata": {},
     "output_type": "execute_result"
    }
   ],
   "source": [
    "changes"
   ]
  },
  {
   "cell_type": "code",
   "execution_count": null,
   "metadata": {},
   "outputs": [
    {
     "ename": "ValueError",
     "evalue": "Mime type rendering requires nbformat>=4.2.0 but it is not installed",
     "output_type": "error",
     "traceback": [
      "\u001b[1;31m---------------------------------------------------------------------------\u001b[0m",
      "\u001b[1;31mValueError\u001b[0m                                Traceback (most recent call last)",
      "File \u001b[1;32mc:\\Users\\thale\\Documents\\Projetos_DS\\Empresa Jr\\env\\Lib\\site-packages\\IPython\\core\\formatters.py:922\u001b[0m, in \u001b[0;36mIPythonDisplayFormatter.__call__\u001b[1;34m(self, obj)\u001b[0m\n\u001b[0;32m    920\u001b[0m method \u001b[38;5;241m=\u001b[39m get_real_method(obj, \u001b[38;5;28mself\u001b[39m\u001b[38;5;241m.\u001b[39mprint_method)\n\u001b[0;32m    921\u001b[0m \u001b[38;5;28;01mif\u001b[39;00m method \u001b[38;5;129;01mis\u001b[39;00m \u001b[38;5;129;01mnot\u001b[39;00m \u001b[38;5;28;01mNone\u001b[39;00m:\n\u001b[1;32m--> 922\u001b[0m     \u001b[43mmethod\u001b[49m\u001b[43m(\u001b[49m\u001b[43m)\u001b[49m\n\u001b[0;32m    923\u001b[0m     \u001b[38;5;28;01mreturn\u001b[39;00m \u001b[38;5;28;01mTrue\u001b[39;00m\n",
      "File \u001b[1;32mc:\\Users\\thale\\Documents\\Projetos_DS\\Empresa Jr\\env\\Lib\\site-packages\\plotly\\basedatatypes.py:832\u001b[0m, in \u001b[0;36mBaseFigure._ipython_display_\u001b[1;34m(self)\u001b[0m\n\u001b[0;32m    829\u001b[0m \u001b[38;5;28;01mimport\u001b[39;00m \u001b[38;5;21;01mplotly\u001b[39;00m\u001b[38;5;21;01m.\u001b[39;00m\u001b[38;5;21;01mio\u001b[39;00m \u001b[38;5;28;01mas\u001b[39;00m \u001b[38;5;21;01mpio\u001b[39;00m\n\u001b[0;32m    831\u001b[0m \u001b[38;5;28;01mif\u001b[39;00m pio\u001b[38;5;241m.\u001b[39mrenderers\u001b[38;5;241m.\u001b[39mrender_on_display \u001b[38;5;129;01mand\u001b[39;00m pio\u001b[38;5;241m.\u001b[39mrenderers\u001b[38;5;241m.\u001b[39mdefault:\n\u001b[1;32m--> 832\u001b[0m     \u001b[43mpio\u001b[49m\u001b[38;5;241;43m.\u001b[39;49m\u001b[43mshow\u001b[49m\u001b[43m(\u001b[49m\u001b[38;5;28;43mself\u001b[39;49m\u001b[43m)\u001b[49m\n\u001b[0;32m    833\u001b[0m \u001b[38;5;28;01melse\u001b[39;00m:\n\u001b[0;32m    834\u001b[0m     \u001b[38;5;28mprint\u001b[39m(\u001b[38;5;28mrepr\u001b[39m(\u001b[38;5;28mself\u001b[39m))\n",
      "File \u001b[1;32mc:\\Users\\thale\\Documents\\Projetos_DS\\Empresa Jr\\env\\Lib\\site-packages\\plotly\\io\\_renderers.py:394\u001b[0m, in \u001b[0;36mshow\u001b[1;34m(fig, renderer, validate, **kwargs)\u001b[0m\n\u001b[0;32m    389\u001b[0m         \u001b[38;5;28;01mraise\u001b[39;00m \u001b[38;5;167;01mValueError\u001b[39;00m(\n\u001b[0;32m    390\u001b[0m             \u001b[38;5;124m\"\u001b[39m\u001b[38;5;124mMime type rendering requires ipython but it is not installed\u001b[39m\u001b[38;5;124m\"\u001b[39m\n\u001b[0;32m    391\u001b[0m         )\n\u001b[0;32m    393\u001b[0m     \u001b[38;5;28;01mif\u001b[39;00m \u001b[38;5;129;01mnot\u001b[39;00m nbformat \u001b[38;5;129;01mor\u001b[39;00m Version(nbformat\u001b[38;5;241m.\u001b[39m__version__) \u001b[38;5;241m<\u001b[39m Version(\u001b[38;5;124m\"\u001b[39m\u001b[38;5;124m4.2.0\u001b[39m\u001b[38;5;124m\"\u001b[39m):\n\u001b[1;32m--> 394\u001b[0m         \u001b[38;5;28;01mraise\u001b[39;00m \u001b[38;5;167;01mValueError\u001b[39;00m(\n\u001b[0;32m    395\u001b[0m             \u001b[38;5;124m\"\u001b[39m\u001b[38;5;124mMime type rendering requires nbformat>=4.2.0 but it is not installed\u001b[39m\u001b[38;5;124m\"\u001b[39m\n\u001b[0;32m    396\u001b[0m         )\n\u001b[0;32m    398\u001b[0m     ipython_display\u001b[38;5;241m.\u001b[39mdisplay(bundle, raw\u001b[38;5;241m=\u001b[39m\u001b[38;5;28;01mTrue\u001b[39;00m)\n\u001b[0;32m    400\u001b[0m \u001b[38;5;66;03m# external renderers\u001b[39;00m\n",
      "\u001b[1;31mValueError\u001b[0m: Mime type rendering requires nbformat>=4.2.0 but it is not installed"
     ]
    },
    {
     "data": {
      "application/vnd.plotly.v1+json": {
       "config": {
        "plotlyServerURL": "https://plot.ly"
       },
       "data": [
        {
         "alignmentgroup": "True",
         "hovertemplate": "empresa=%{y}<br>quantidade_compra=%{text}<extra></extra>",
         "legendgroup": "Brasil Bitcoin",
         "marker": {
          "color": "#636efa",
          "pattern": {
           "shape": ""
          }
         },
         "name": "Brasil Bitcoin",
         "offsetgroup": "Brasil Bitcoin",
         "orientation": "h",
         "showlegend": true,
         "text": [
          0.07249864
         ],
         "textposition": "auto",
         "texttemplate": "%{text:.2s}",
         "type": "bar",
         "x": [
          0.07249864
         ],
         "xaxis": "x",
         "y": [
          "Brasil Bitcoin"
         ],
         "yaxis": "y"
        },
        {
         "alignmentgroup": "True",
         "hovertemplate": "empresa=%{y}<br>quantidade_venda=%{text}<extra></extra>",
         "legendgroup": "Brasil Bitcoin",
         "marker": {
          "color": "#636efa",
          "pattern": {
           "shape": ""
          }
         },
         "name": "Brasil Bitcoin",
         "offsetgroup": "Brasil Bitcoin",
         "orientation": "h",
         "showlegend": true,
         "text": [
          1.5214544200000002
         ],
         "textposition": "auto",
         "texttemplate": "%{text:.2s}",
         "type": "bar",
         "x": [
          1.5214544200000002
         ],
         "xaxis": "x2",
         "y": [
          "Brasil Bitcoin"
         ],
         "yaxis": "y2"
        },
        {
         "alignmentgroup": "True",
         "hovertemplate": "empresa=%{y}<br>quantidade_compra=%{text}<extra></extra>",
         "legendgroup": "Ripio Trade",
         "marker": {
          "color": "#EF553B",
          "pattern": {
           "shape": ""
          }
         },
         "name": "Ripio Trade",
         "offsetgroup": "Ripio Trade",
         "orientation": "h",
         "showlegend": true,
         "text": [
          6.6e-07
         ],
         "textposition": "auto",
         "texttemplate": "%{text:.2s}",
         "type": "bar",
         "x": [
          6.6e-07
         ],
         "xaxis": "x",
         "y": [
          "Ripio Trade"
         ],
         "yaxis": "y"
        },
        {
         "alignmentgroup": "True",
         "hovertemplate": "empresa=%{y}<br>quantidade_venda=%{text}<extra></extra>",
         "legendgroup": "Ripio Trade",
         "marker": {
          "color": "#EF553B",
          "pattern": {
           "shape": ""
          }
         },
         "name": "Ripio Trade",
         "offsetgroup": "Ripio Trade",
         "orientation": "h",
         "showlegend": true,
         "text": [
          0.18142831
         ],
         "textposition": "auto",
         "texttemplate": "%{text:.2s}",
         "type": "bar",
         "x": [
          0.18142831
         ],
         "xaxis": "x2",
         "y": [
          "Ripio Trade"
         ],
         "yaxis": "y2"
        },
        {
         "alignmentgroup": "True",
         "hovertemplate": "empresa=%{y}<br>quantidade_compra=%{text}<extra></extra>",
         "legendgroup": "Mercado Bitcoin",
         "marker": {
          "color": "#00cc96",
          "pattern": {
           "shape": ""
          }
         },
         "name": "Mercado Bitcoin",
         "offsetgroup": "Mercado Bitcoin",
         "orientation": "h",
         "showlegend": true,
         "text": [
          0.0045
         ],
         "textposition": "auto",
         "texttemplate": "%{text:.2s}",
         "type": "bar",
         "x": [
          0.0045
         ],
         "xaxis": "x",
         "y": [
          "Mercado Bitcoin"
         ],
         "yaxis": "y"
        },
        {
         "alignmentgroup": "True",
         "hovertemplate": "empresa=%{y}<br>quantidade_venda=%{text}<extra></extra>",
         "legendgroup": "Mercado Bitcoin",
         "marker": {
          "color": "#00cc96",
          "pattern": {
           "shape": ""
          }
         },
         "name": "Mercado Bitcoin",
         "offsetgroup": "Mercado Bitcoin",
         "orientation": "h",
         "showlegend": true,
         "text": [
          3.887645309999999
         ],
         "textposition": "auto",
         "texttemplate": "%{text:.2s}",
         "type": "bar",
         "x": [
          3.887645309999999
         ],
         "xaxis": "x2",
         "y": [
          "Mercado Bitcoin"
         ],
         "yaxis": "y2"
        },
        {
         "alignmentgroup": "True",
         "hovertemplate": "empresa=%{y}<br>quantidade_compra=%{text}<extra></extra>",
         "legendgroup": "Bitso Bitcoin",
         "marker": {
          "color": "#ab63fa",
          "pattern": {
           "shape": ""
          }
         },
         "name": "Bitso Bitcoin",
         "offsetgroup": "Bitso Bitcoin",
         "orientation": "h",
         "showlegend": true,
         "text": [
          0.02797205
         ],
         "textposition": "auto",
         "texttemplate": "%{text:.2s}",
         "type": "bar",
         "x": [
          0.02797205
         ],
         "xaxis": "x",
         "y": [
          "Bitso Bitcoin"
         ],
         "yaxis": "y"
        },
        {
         "alignmentgroup": "True",
         "hovertemplate": "empresa=%{y}<br>quantidade_venda=%{text}<extra></extra>",
         "legendgroup": "Bitso Bitcoin",
         "marker": {
          "color": "#ab63fa",
          "pattern": {
           "shape": ""
          }
         },
         "name": "Bitso Bitcoin",
         "offsetgroup": "Bitso Bitcoin",
         "orientation": "h",
         "showlegend": true,
         "text": [
          3.39646964
         ],
         "textposition": "auto",
         "texttemplate": "%{text:.2s}",
         "type": "bar",
         "x": [
          3.39646964
         ],
         "xaxis": "x2",
         "y": [
          "Bitso Bitcoin"
         ],
         "yaxis": "y2"
        },
        {
         "alignmentgroup": "True",
         "hovertemplate": "empresa=%{y}<br>quantidade_compra=%{text}<extra></extra>",
         "legendgroup": "Bity Preço",
         "marker": {
          "color": "#FFA15A",
          "pattern": {
           "shape": ""
          }
         },
         "name": "Bity Preço",
         "offsetgroup": "Bity Preço",
         "orientation": "h",
         "showlegend": true,
         "text": [
          0.50330681
         ],
         "textposition": "auto",
         "texttemplate": "%{text:.2s}",
         "type": "bar",
         "x": [
          0.50330681
         ],
         "xaxis": "x",
         "y": [
          "Bity Preço"
         ],
         "yaxis": "y"
        },
        {
         "alignmentgroup": "True",
         "hovertemplate": "empresa=%{y}<br>quantidade_venda=%{text}<extra></extra>",
         "legendgroup": "Bity Preço",
         "marker": {
          "color": "#FFA15A",
          "pattern": {
           "shape": ""
          }
         },
         "name": "Bity Preço",
         "offsetgroup": "Bity Preço",
         "orientation": "h",
         "showlegend": true,
         "text": [
          3.21216487
         ],
         "textposition": "auto",
         "texttemplate": "%{text:.2s}",
         "type": "bar",
         "x": [
          3.21216487
         ],
         "xaxis": "x2",
         "y": [
          "Bity Preço"
         ],
         "yaxis": "y2"
        }
       ],
       "layout": {
        "autosize": true,
        "bargap": 0,
        "margin": {
         "b": 30,
         "l": 10,
         "r": 10,
         "t": 30
        },
        "showlegend": false,
        "template": {
         "data": {
          "bar": [
           {
            "error_x": {
             "color": "#2a3f5f"
            },
            "error_y": {
             "color": "#2a3f5f"
            },
            "marker": {
             "line": {
              "color": "#E5ECF6",
              "width": 0.5
             },
             "pattern": {
              "fillmode": "overlay",
              "size": 10,
              "solidity": 0.2
             }
            },
            "type": "bar"
           }
          ],
          "barpolar": [
           {
            "marker": {
             "line": {
              "color": "#E5ECF6",
              "width": 0.5
             },
             "pattern": {
              "fillmode": "overlay",
              "size": 10,
              "solidity": 0.2
             }
            },
            "type": "barpolar"
           }
          ],
          "carpet": [
           {
            "aaxis": {
             "endlinecolor": "#2a3f5f",
             "gridcolor": "white",
             "linecolor": "white",
             "minorgridcolor": "white",
             "startlinecolor": "#2a3f5f"
            },
            "baxis": {
             "endlinecolor": "#2a3f5f",
             "gridcolor": "white",
             "linecolor": "white",
             "minorgridcolor": "white",
             "startlinecolor": "#2a3f5f"
            },
            "type": "carpet"
           }
          ],
          "choropleth": [
           {
            "colorbar": {
             "outlinewidth": 0,
             "ticks": ""
            },
            "type": "choropleth"
           }
          ],
          "contour": [
           {
            "colorbar": {
             "outlinewidth": 0,
             "ticks": ""
            },
            "colorscale": [
             [
              0,
              "#0d0887"
             ],
             [
              0.1111111111111111,
              "#46039f"
             ],
             [
              0.2222222222222222,
              "#7201a8"
             ],
             [
              0.3333333333333333,
              "#9c179e"
             ],
             [
              0.4444444444444444,
              "#bd3786"
             ],
             [
              0.5555555555555556,
              "#d8576b"
             ],
             [
              0.6666666666666666,
              "#ed7953"
             ],
             [
              0.7777777777777778,
              "#fb9f3a"
             ],
             [
              0.8888888888888888,
              "#fdca26"
             ],
             [
              1,
              "#f0f921"
             ]
            ],
            "type": "contour"
           }
          ],
          "contourcarpet": [
           {
            "colorbar": {
             "outlinewidth": 0,
             "ticks": ""
            },
            "type": "contourcarpet"
           }
          ],
          "heatmap": [
           {
            "colorbar": {
             "outlinewidth": 0,
             "ticks": ""
            },
            "colorscale": [
             [
              0,
              "#0d0887"
             ],
             [
              0.1111111111111111,
              "#46039f"
             ],
             [
              0.2222222222222222,
              "#7201a8"
             ],
             [
              0.3333333333333333,
              "#9c179e"
             ],
             [
              0.4444444444444444,
              "#bd3786"
             ],
             [
              0.5555555555555556,
              "#d8576b"
             ],
             [
              0.6666666666666666,
              "#ed7953"
             ],
             [
              0.7777777777777778,
              "#fb9f3a"
             ],
             [
              0.8888888888888888,
              "#fdca26"
             ],
             [
              1,
              "#f0f921"
             ]
            ],
            "type": "heatmap"
           }
          ],
          "heatmapgl": [
           {
            "colorbar": {
             "outlinewidth": 0,
             "ticks": ""
            },
            "colorscale": [
             [
              0,
              "#0d0887"
             ],
             [
              0.1111111111111111,
              "#46039f"
             ],
             [
              0.2222222222222222,
              "#7201a8"
             ],
             [
              0.3333333333333333,
              "#9c179e"
             ],
             [
              0.4444444444444444,
              "#bd3786"
             ],
             [
              0.5555555555555556,
              "#d8576b"
             ],
             [
              0.6666666666666666,
              "#ed7953"
             ],
             [
              0.7777777777777778,
              "#fb9f3a"
             ],
             [
              0.8888888888888888,
              "#fdca26"
             ],
             [
              1,
              "#f0f921"
             ]
            ],
            "type": "heatmapgl"
           }
          ],
          "histogram": [
           {
            "marker": {
             "pattern": {
              "fillmode": "overlay",
              "size": 10,
              "solidity": 0.2
             }
            },
            "type": "histogram"
           }
          ],
          "histogram2d": [
           {
            "colorbar": {
             "outlinewidth": 0,
             "ticks": ""
            },
            "colorscale": [
             [
              0,
              "#0d0887"
             ],
             [
              0.1111111111111111,
              "#46039f"
             ],
             [
              0.2222222222222222,
              "#7201a8"
             ],
             [
              0.3333333333333333,
              "#9c179e"
             ],
             [
              0.4444444444444444,
              "#bd3786"
             ],
             [
              0.5555555555555556,
              "#d8576b"
             ],
             [
              0.6666666666666666,
              "#ed7953"
             ],
             [
              0.7777777777777778,
              "#fb9f3a"
             ],
             [
              0.8888888888888888,
              "#fdca26"
             ],
             [
              1,
              "#f0f921"
             ]
            ],
            "type": "histogram2d"
           }
          ],
          "histogram2dcontour": [
           {
            "colorbar": {
             "outlinewidth": 0,
             "ticks": ""
            },
            "colorscale": [
             [
              0,
              "#0d0887"
             ],
             [
              0.1111111111111111,
              "#46039f"
             ],
             [
              0.2222222222222222,
              "#7201a8"
             ],
             [
              0.3333333333333333,
              "#9c179e"
             ],
             [
              0.4444444444444444,
              "#bd3786"
             ],
             [
              0.5555555555555556,
              "#d8576b"
             ],
             [
              0.6666666666666666,
              "#ed7953"
             ],
             [
              0.7777777777777778,
              "#fb9f3a"
             ],
             [
              0.8888888888888888,
              "#fdca26"
             ],
             [
              1,
              "#f0f921"
             ]
            ],
            "type": "histogram2dcontour"
           }
          ],
          "mesh3d": [
           {
            "colorbar": {
             "outlinewidth": 0,
             "ticks": ""
            },
            "type": "mesh3d"
           }
          ],
          "parcoords": [
           {
            "line": {
             "colorbar": {
              "outlinewidth": 0,
              "ticks": ""
             }
            },
            "type": "parcoords"
           }
          ],
          "pie": [
           {
            "automargin": true,
            "type": "pie"
           }
          ],
          "scatter": [
           {
            "fillpattern": {
             "fillmode": "overlay",
             "size": 10,
             "solidity": 0.2
            },
            "type": "scatter"
           }
          ],
          "scatter3d": [
           {
            "line": {
             "colorbar": {
              "outlinewidth": 0,
              "ticks": ""
             }
            },
            "marker": {
             "colorbar": {
              "outlinewidth": 0,
              "ticks": ""
             }
            },
            "type": "scatter3d"
           }
          ],
          "scattercarpet": [
           {
            "marker": {
             "colorbar": {
              "outlinewidth": 0,
              "ticks": ""
             }
            },
            "type": "scattercarpet"
           }
          ],
          "scattergeo": [
           {
            "marker": {
             "colorbar": {
              "outlinewidth": 0,
              "ticks": ""
             }
            },
            "type": "scattergeo"
           }
          ],
          "scattergl": [
           {
            "marker": {
             "colorbar": {
              "outlinewidth": 0,
              "ticks": ""
             }
            },
            "type": "scattergl"
           }
          ],
          "scattermapbox": [
           {
            "marker": {
             "colorbar": {
              "outlinewidth": 0,
              "ticks": ""
             }
            },
            "type": "scattermapbox"
           }
          ],
          "scatterpolar": [
           {
            "marker": {
             "colorbar": {
              "outlinewidth": 0,
              "ticks": ""
             }
            },
            "type": "scatterpolar"
           }
          ],
          "scatterpolargl": [
           {
            "marker": {
             "colorbar": {
              "outlinewidth": 0,
              "ticks": ""
             }
            },
            "type": "scatterpolargl"
           }
          ],
          "scatterternary": [
           {
            "marker": {
             "colorbar": {
              "outlinewidth": 0,
              "ticks": ""
             }
            },
            "type": "scatterternary"
           }
          ],
          "surface": [
           {
            "colorbar": {
             "outlinewidth": 0,
             "ticks": ""
            },
            "colorscale": [
             [
              0,
              "#0d0887"
             ],
             [
              0.1111111111111111,
              "#46039f"
             ],
             [
              0.2222222222222222,
              "#7201a8"
             ],
             [
              0.3333333333333333,
              "#9c179e"
             ],
             [
              0.4444444444444444,
              "#bd3786"
             ],
             [
              0.5555555555555556,
              "#d8576b"
             ],
             [
              0.6666666666666666,
              "#ed7953"
             ],
             [
              0.7777777777777778,
              "#fb9f3a"
             ],
             [
              0.8888888888888888,
              "#fdca26"
             ],
             [
              1,
              "#f0f921"
             ]
            ],
            "type": "surface"
           }
          ],
          "table": [
           {
            "cells": {
             "fill": {
              "color": "#EBF0F8"
             },
             "line": {
              "color": "white"
             }
            },
            "header": {
             "fill": {
              "color": "#C8D4E3"
             },
             "line": {
              "color": "white"
             }
            },
            "type": "table"
           }
          ]
         },
         "layout": {
          "annotationdefaults": {
           "arrowcolor": "#2a3f5f",
           "arrowhead": 0,
           "arrowwidth": 1
          },
          "autotypenumbers": "strict",
          "coloraxis": {
           "colorbar": {
            "outlinewidth": 0,
            "ticks": ""
           }
          },
          "colorscale": {
           "diverging": [
            [
             0,
             "#8e0152"
            ],
            [
             0.1,
             "#c51b7d"
            ],
            [
             0.2,
             "#de77ae"
            ],
            [
             0.3,
             "#f1b6da"
            ],
            [
             0.4,
             "#fde0ef"
            ],
            [
             0.5,
             "#f7f7f7"
            ],
            [
             0.6,
             "#e6f5d0"
            ],
            [
             0.7,
             "#b8e186"
            ],
            [
             0.8,
             "#7fbc41"
            ],
            [
             0.9,
             "#4d9221"
            ],
            [
             1,
             "#276419"
            ]
           ],
           "sequential": [
            [
             0,
             "#0d0887"
            ],
            [
             0.1111111111111111,
             "#46039f"
            ],
            [
             0.2222222222222222,
             "#7201a8"
            ],
            [
             0.3333333333333333,
             "#9c179e"
            ],
            [
             0.4444444444444444,
             "#bd3786"
            ],
            [
             0.5555555555555556,
             "#d8576b"
            ],
            [
             0.6666666666666666,
             "#ed7953"
            ],
            [
             0.7777777777777778,
             "#fb9f3a"
            ],
            [
             0.8888888888888888,
             "#fdca26"
            ],
            [
             1,
             "#f0f921"
            ]
           ],
           "sequentialminus": [
            [
             0,
             "#0d0887"
            ],
            [
             0.1111111111111111,
             "#46039f"
            ],
            [
             0.2222222222222222,
             "#7201a8"
            ],
            [
             0.3333333333333333,
             "#9c179e"
            ],
            [
             0.4444444444444444,
             "#bd3786"
            ],
            [
             0.5555555555555556,
             "#d8576b"
            ],
            [
             0.6666666666666666,
             "#ed7953"
            ],
            [
             0.7777777777777778,
             "#fb9f3a"
            ],
            [
             0.8888888888888888,
             "#fdca26"
            ],
            [
             1,
             "#f0f921"
            ]
           ]
          },
          "colorway": [
           "#636efa",
           "#EF553B",
           "#00cc96",
           "#ab63fa",
           "#FFA15A",
           "#19d3f3",
           "#FF6692",
           "#B6E880",
           "#FF97FF",
           "#FECB52"
          ],
          "font": {
           "color": "#2a3f5f"
          },
          "geo": {
           "bgcolor": "white",
           "lakecolor": "white",
           "landcolor": "#E5ECF6",
           "showlakes": true,
           "showland": true,
           "subunitcolor": "white"
          },
          "hoverlabel": {
           "align": "left"
          },
          "hovermode": "closest",
          "mapbox": {
           "style": "light"
          },
          "paper_bgcolor": "white",
          "plot_bgcolor": "#E5ECF6",
          "polar": {
           "angularaxis": {
            "gridcolor": "white",
            "linecolor": "white",
            "ticks": ""
           },
           "bgcolor": "#E5ECF6",
           "radialaxis": {
            "gridcolor": "white",
            "linecolor": "white",
            "ticks": ""
           }
          },
          "scene": {
           "xaxis": {
            "backgroundcolor": "#E5ECF6",
            "gridcolor": "white",
            "gridwidth": 2,
            "linecolor": "white",
            "showbackground": true,
            "ticks": "",
            "zerolinecolor": "white"
           },
           "yaxis": {
            "backgroundcolor": "#E5ECF6",
            "gridcolor": "white",
            "gridwidth": 2,
            "linecolor": "white",
            "showbackground": true,
            "ticks": "",
            "zerolinecolor": "white"
           },
           "zaxis": {
            "backgroundcolor": "#E5ECF6",
            "gridcolor": "white",
            "gridwidth": 2,
            "linecolor": "white",
            "showbackground": true,
            "ticks": "",
            "zerolinecolor": "white"
           }
          },
          "shapedefaults": {
           "line": {
            "color": "#2a3f5f"
           }
          },
          "ternary": {
           "aaxis": {
            "gridcolor": "white",
            "linecolor": "white",
            "ticks": ""
           },
           "baxis": {
            "gridcolor": "white",
            "linecolor": "white",
            "ticks": ""
           },
           "bgcolor": "#E5ECF6",
           "caxis": {
            "gridcolor": "white",
            "linecolor": "white",
            "ticks": ""
           }
          },
          "title": {
           "x": 0.05
          },
          "xaxis": {
           "automargin": true,
           "gridcolor": "white",
           "linecolor": "white",
           "ticks": "",
           "title": {
            "standoff": 15
           },
           "zerolinecolor": "white",
           "zerolinewidth": 2
          },
          "yaxis": {
           "automargin": true,
           "gridcolor": "white",
           "linecolor": "white",
           "ticks": "",
           "title": {
            "standoff": 15
           },
           "zerolinecolor": "white",
           "zerolinewidth": 2
          }
         }
        },
        "xaxis": {
         "anchor": "y",
         "autorange": true,
         "domain": [
          0,
          0.499
         ],
         "range": [
          0.5297966421052631,
          0
         ],
         "type": "linear"
        },
        "xaxis2": {
         "anchor": "y2",
         "autorange": true,
         "domain": [
          0.501,
          1
         ],
         "range": [
          0,
          4.092258221052631
         ],
         "type": "linear"
        },
        "yaxis": {
         "anchor": "x",
         "autorange": true,
         "domain": [
          0,
          1
         ],
         "range": [
          -0.5,
          4.5
         ],
         "type": "category"
        },
        "yaxis2": {
         "anchor": "x2",
         "autorange": true,
         "domain": [
          0,
          1
         ],
         "range": [
          -0.5,
          4.5
         ],
         "type": "category",
         "visible": false
        }
       }
      },
      "image/png": "[encoded data removed]",
      "text/html": [
       "<div>                        <script type=\"text/javascript\">window.PlotlyConfig = {MathJaxConfig: 'local'};</script>\n",
       "        <script charset=\"utf-8\" src=\"https://cdn.plot.ly/plotly-2.27.0.min.js\"></script>                <div id=\"77171256-e8e1-4d99-b363-cc295e4ef123\" class=\"plotly-graph-div\" style=\"height:100%; width:100%;\"></div>            <script type=\"text/javascript\">                                    window.PLOTLYENV=window.PLOTLYENV || {};                                    if (document.getElementById(\"77171256-e8e1-4d99-b363-cc295e4ef123\")) {                    Plotly.newPlot(                        \"77171256-e8e1-4d99-b363-cc295e4ef123\",                        [{\"alignmentgroup\":\"True\",\"hovertemplate\":\"empresa=%{y}\\u003cbr\\u003equantidade_compra=%{text}\\u003cextra\\u003e\\u003c\\u002fextra\\u003e\",\"legendgroup\":\"Brasil Bitcoin\",\"marker\":{\"color\":\"#636efa\",\"pattern\":{\"shape\":\"\"}},\"name\":\"Brasil Bitcoin\",\"offsetgroup\":\"Brasil Bitcoin\",\"orientation\":\"h\",\"showlegend\":true,\"text\":[0.07249864],\"textposition\":\"auto\",\"texttemplate\":\"%{text:.2s}\",\"x\":[0.07249864],\"xaxis\":\"x\",\"y\":[\"Brasil Bitcoin\"],\"yaxis\":\"y\",\"type\":\"bar\"},{\"alignmentgroup\":\"True\",\"hovertemplate\":\"empresa=%{y}\\u003cbr\\u003equantidade_venda=%{text}\\u003cextra\\u003e\\u003c\\u002fextra\\u003e\",\"legendgroup\":\"Brasil Bitcoin\",\"marker\":{\"color\":\"#636efa\",\"pattern\":{\"shape\":\"\"}},\"name\":\"Brasil Bitcoin\",\"offsetgroup\":\"Brasil Bitcoin\",\"orientation\":\"h\",\"showlegend\":true,\"text\":[1.5214544200000002],\"textposition\":\"auto\",\"texttemplate\":\"%{text:.2s}\",\"x\":[1.5214544200000002],\"xaxis\":\"x2\",\"y\":[\"Brasil Bitcoin\"],\"yaxis\":\"y2\",\"type\":\"bar\"},{\"alignmentgroup\":\"True\",\"hovertemplate\":\"empresa=%{y}\\u003cbr\\u003equantidade_compra=%{text}\\u003cextra\\u003e\\u003c\\u002fextra\\u003e\",\"legendgroup\":\"Ripio Trade\",\"marker\":{\"color\":\"#EF553B\",\"pattern\":{\"shape\":\"\"}},\"name\":\"Ripio Trade\",\"offsetgroup\":\"Ripio Trade\",\"orientation\":\"h\",\"showlegend\":true,\"text\":[6.6e-07],\"textposition\":\"auto\",\"texttemplate\":\"%{text:.2s}\",\"x\":[6.6e-07],\"xaxis\":\"x\",\"y\":[\"Ripio Trade\"],\"yaxis\":\"y\",\"type\":\"bar\"},{\"alignmentgroup\":\"True\",\"hovertemplate\":\"empresa=%{y}\\u003cbr\\u003equantidade_venda=%{text}\\u003cextra\\u003e\\u003c\\u002fextra\\u003e\",\"legendgroup\":\"Ripio Trade\",\"marker\":{\"color\":\"#EF553B\",\"pattern\":{\"shape\":\"\"}},\"name\":\"Ripio Trade\",\"offsetgroup\":\"Ripio Trade\",\"orientation\":\"h\",\"showlegend\":true,\"text\":[0.18142831],\"textposition\":\"auto\",\"texttemplate\":\"%{text:.2s}\",\"x\":[0.18142831],\"xaxis\":\"x2\",\"y\":[\"Ripio Trade\"],\"yaxis\":\"y2\",\"type\":\"bar\"},{\"alignmentgroup\":\"True\",\"hovertemplate\":\"empresa=%{y}\\u003cbr\\u003equantidade_compra=%{text}\\u003cextra\\u003e\\u003c\\u002fextra\\u003e\",\"legendgroup\":\"Mercado Bitcoin\",\"marker\":{\"color\":\"#00cc96\",\"pattern\":{\"shape\":\"\"}},\"name\":\"Mercado Bitcoin\",\"offsetgroup\":\"Mercado Bitcoin\",\"orientation\":\"h\",\"showlegend\":true,\"text\":[0.0045],\"textposition\":\"auto\",\"texttemplate\":\"%{text:.2s}\",\"x\":[0.0045],\"xaxis\":\"x\",\"y\":[\"Mercado Bitcoin\"],\"yaxis\":\"y\",\"type\":\"bar\"},{\"alignmentgroup\":\"True\",\"hovertemplate\":\"empresa=%{y}\\u003cbr\\u003equantidade_venda=%{text}\\u003cextra\\u003e\\u003c\\u002fextra\\u003e\",\"legendgroup\":\"Mercado Bitcoin\",\"marker\":{\"color\":\"#00cc96\",\"pattern\":{\"shape\":\"\"}},\"name\":\"Mercado Bitcoin\",\"offsetgroup\":\"Mercado Bitcoin\",\"orientation\":\"h\",\"showlegend\":true,\"text\":[3.887645309999999],\"textposition\":\"auto\",\"texttemplate\":\"%{text:.2s}\",\"x\":[3.887645309999999],\"xaxis\":\"x2\",\"y\":[\"Mercado Bitcoin\"],\"yaxis\":\"y2\",\"type\":\"bar\"},{\"alignmentgroup\":\"True\",\"hovertemplate\":\"empresa=%{y}\\u003cbr\\u003equantidade_compra=%{text}\\u003cextra\\u003e\\u003c\\u002fextra\\u003e\",\"legendgroup\":\"Bitso Bitcoin\",\"marker\":{\"color\":\"#ab63fa\",\"pattern\":{\"shape\":\"\"}},\"name\":\"Bitso Bitcoin\",\"offsetgroup\":\"Bitso Bitcoin\",\"orientation\":\"h\",\"showlegend\":true,\"text\":[0.02797205],\"textposition\":\"auto\",\"texttemplate\":\"%{text:.2s}\",\"x\":[0.02797205],\"xaxis\":\"x\",\"y\":[\"Bitso Bitcoin\"],\"yaxis\":\"y\",\"type\":\"bar\"},{\"alignmentgroup\":\"True\",\"hovertemplate\":\"empresa=%{y}\\u003cbr\\u003equantidade_venda=%{text}\\u003cextra\\u003e\\u003c\\u002fextra\\u003e\",\"legendgroup\":\"Bitso Bitcoin\",\"marker\":{\"color\":\"#ab63fa\",\"pattern\":{\"shape\":\"\"}},\"name\":\"Bitso Bitcoin\",\"offsetgroup\":\"Bitso Bitcoin\",\"orientation\":\"h\",\"showlegend\":true,\"text\":[3.39646964],\"textposition\":\"auto\",\"texttemplate\":\"%{text:.2s}\",\"x\":[3.39646964],\"xaxis\":\"x2\",\"y\":[\"Bitso Bitcoin\"],\"yaxis\":\"y2\",\"type\":\"bar\"},{\"alignmentgroup\":\"True\",\"hovertemplate\":\"empresa=%{y}\\u003cbr\\u003equantidade_compra=%{text}\\u003cextra\\u003e\\u003c\\u002fextra\\u003e\",\"legendgroup\":\"Bity Pre\\u00e7o\",\"marker\":{\"color\":\"#FFA15A\",\"pattern\":{\"shape\":\"\"}},\"name\":\"Bity Pre\\u00e7o\",\"offsetgroup\":\"Bity Pre\\u00e7o\",\"orientation\":\"h\",\"showlegend\":true,\"text\":[0.50330681],\"textposition\":\"auto\",\"texttemplate\":\"%{text:.2s}\",\"x\":[0.50330681],\"xaxis\":\"x\",\"y\":[\"Bity Pre\\u00e7o\"],\"yaxis\":\"y\",\"type\":\"bar\"},{\"alignmentgroup\":\"True\",\"hovertemplate\":\"empresa=%{y}\\u003cbr\\u003equantidade_venda=%{text}\\u003cextra\\u003e\\u003c\\u002fextra\\u003e\",\"legendgroup\":\"Bity Pre\\u00e7o\",\"marker\":{\"color\":\"#FFA15A\",\"pattern\":{\"shape\":\"\"}},\"name\":\"Bity Pre\\u00e7o\",\"offsetgroup\":\"Bity Pre\\u00e7o\",\"orientation\":\"h\",\"showlegend\":true,\"text\":[3.21216487],\"textposition\":\"auto\",\"texttemplate\":\"%{text:.2s}\",\"x\":[3.21216487],\"xaxis\":\"x2\",\"y\":[\"Bity Pre\\u00e7o\"],\"yaxis\":\"y2\",\"type\":\"bar\"}],                        {\"template\":{\"data\":{\"histogram2dcontour\":[{\"type\":\"histogram2dcontour\",\"colorbar\":{\"outlinewidth\":0,\"ticks\":\"\"},\"colorscale\":[[0.0,\"#0d0887\"],[0.1111111111111111,\"#46039f\"],[0.2222222222222222,\"#7201a8\"],[0.3333333333333333,\"#9c179e\"],[0.4444444444444444,\"#bd3786\"],[0.5555555555555556,\"#d8576b\"],[0.6666666666666666,\"#ed7953\"],[0.7777777777777778,\"#fb9f3a\"],[0.8888888888888888,\"#fdca26\"],[1.0,\"#f0f921\"]]}],\"choropleth\":[{\"type\":\"choropleth\",\"colorbar\":{\"outlinewidth\":0,\"ticks\":\"\"}}],\"histogram2d\":[{\"type\":\"histogram2d\",\"colorbar\":{\"outlinewidth\":0,\"ticks\":\"\"},\"colorscale\":[[0.0,\"#0d0887\"],[0.1111111111111111,\"#46039f\"],[0.2222222222222222,\"#7201a8\"],[0.3333333333333333,\"#9c179e\"],[0.4444444444444444,\"#bd3786\"],[0.5555555555555556,\"#d8576b\"],[0.6666666666666666,\"#ed7953\"],[0.7777777777777778,\"#fb9f3a\"],[0.8888888888888888,\"#fdca26\"],[1.0,\"#f0f921\"]]}],\"heatmap\":[{\"type\":\"heatmap\",\"colorbar\":{\"outlinewidth\":0,\"ticks\":\"\"},\"colorscale\":[[0.0,\"#0d0887\"],[0.1111111111111111,\"#46039f\"],[0.2222222222222222,\"#7201a8\"],[0.3333333333333333,\"#9c179e\"],[0.4444444444444444,\"#bd3786\"],[0.5555555555555556,\"#d8576b\"],[0.6666666666666666,\"#ed7953\"],[0.7777777777777778,\"#fb9f3a\"],[0.8888888888888888,\"#fdca26\"],[1.0,\"#f0f921\"]]}],\"heatmapgl\":[{\"type\":\"heatmapgl\",\"colorbar\":{\"outlinewidth\":0,\"ticks\":\"\"},\"colorscale\":[[0.0,\"#0d0887\"],[0.1111111111111111,\"#46039f\"],[0.2222222222222222,\"#7201a8\"],[0.3333333333333333,\"#9c179e\"],[0.4444444444444444,\"#bd3786\"],[0.5555555555555556,\"#d8576b\"],[0.6666666666666666,\"#ed7953\"],[0.7777777777777778,\"#fb9f3a\"],[0.8888888888888888,\"#fdca26\"],[1.0,\"#f0f921\"]]}],\"contourcarpet\":[{\"type\":\"contourcarpet\",\"colorbar\":{\"outlinewidth\":0,\"ticks\":\"\"}}],\"contour\":[{\"type\":\"contour\",\"colorbar\":{\"outlinewidth\":0,\"ticks\":\"\"},\"colorscale\":[[0.0,\"#0d0887\"],[0.1111111111111111,\"#46039f\"],[0.2222222222222222,\"#7201a8\"],[0.3333333333333333,\"#9c179e\"],[0.4444444444444444,\"#bd3786\"],[0.5555555555555556,\"#d8576b\"],[0.6666666666666666,\"#ed7953\"],[0.7777777777777778,\"#fb9f3a\"],[0.8888888888888888,\"#fdca26\"],[1.0,\"#f0f921\"]]}],\"surface\":[{\"type\":\"surface\",\"colorbar\":{\"outlinewidth\":0,\"ticks\":\"\"},\"colorscale\":[[0.0,\"#0d0887\"],[0.1111111111111111,\"#46039f\"],[0.2222222222222222,\"#7201a8\"],[0.3333333333333333,\"#9c179e\"],[0.4444444444444444,\"#bd3786\"],[0.5555555555555556,\"#d8576b\"],[0.6666666666666666,\"#ed7953\"],[0.7777777777777778,\"#fb9f3a\"],[0.8888888888888888,\"#fdca26\"],[1.0,\"#f0f921\"]]}],\"mesh3d\":[{\"type\":\"mesh3d\",\"colorbar\":{\"outlinewidth\":0,\"ticks\":\"\"}}],\"scatter\":[{\"fillpattern\":{\"fillmode\":\"overlay\",\"size\":10,\"solidity\":0.2},\"type\":\"scatter\"}],\"parcoords\":[{\"type\":\"parcoords\",\"line\":{\"colorbar\":{\"outlinewidth\":0,\"ticks\":\"\"}}}],\"scatterpolargl\":[{\"type\":\"scatterpolargl\",\"marker\":{\"colorbar\":{\"outlinewidth\":0,\"ticks\":\"\"}}}],\"bar\":[{\"error_x\":{\"color\":\"#2a3f5f\"},\"error_y\":{\"color\":\"#2a3f5f\"},\"marker\":{\"line\":{\"color\":\"#E5ECF6\",\"width\":0.5},\"pattern\":{\"fillmode\":\"overlay\",\"size\":10,\"solidity\":0.2}},\"type\":\"bar\"}],\"scattergeo\":[{\"type\":\"scattergeo\",\"marker\":{\"colorbar\":{\"outlinewidth\":0,\"ticks\":\"\"}}}],\"scatterpolar\":[{\"type\":\"scatterpolar\",\"marker\":{\"colorbar\":{\"outlinewidth\":0,\"ticks\":\"\"}}}],\"histogram\":[{\"marker\":{\"pattern\":{\"fillmode\":\"overlay\",\"size\":10,\"solidity\":0.2}},\"type\":\"histogram\"}],\"scattergl\":[{\"type\":\"scattergl\",\"marker\":{\"colorbar\":{\"outlinewidth\":0,\"ticks\":\"\"}}}],\"scatter3d\":[{\"type\":\"scatter3d\",\"line\":{\"colorbar\":{\"outlinewidth\":0,\"ticks\":\"\"}},\"marker\":{\"colorbar\":{\"outlinewidth\":0,\"ticks\":\"\"}}}],\"scattermapbox\":[{\"type\":\"scattermapbox\",\"marker\":{\"colorbar\":{\"outlinewidth\":0,\"ticks\":\"\"}}}],\"scatterternary\":[{\"type\":\"scatterternary\",\"marker\":{\"colorbar\":{\"outlinewidth\":0,\"ticks\":\"\"}}}],\"scattercarpet\":[{\"type\":\"scattercarpet\",\"marker\":{\"colorbar\":{\"outlinewidth\":0,\"ticks\":\"\"}}}],\"carpet\":[{\"aaxis\":{\"endlinecolor\":\"#2a3f5f\",\"gridcolor\":\"white\",\"linecolor\":\"white\",\"minorgridcolor\":\"white\",\"startlinecolor\":\"#2a3f5f\"},\"baxis\":{\"endlinecolor\":\"#2a3f5f\",\"gridcolor\":\"white\",\"linecolor\":\"white\",\"minorgridcolor\":\"white\",\"startlinecolor\":\"#2a3f5f\"},\"type\":\"carpet\"}],\"table\":[{\"cells\":{\"fill\":{\"color\":\"#EBF0F8\"},\"line\":{\"color\":\"white\"}},\"header\":{\"fill\":{\"color\":\"#C8D4E3\"},\"line\":{\"color\":\"white\"}},\"type\":\"table\"}],\"barpolar\":[{\"marker\":{\"line\":{\"color\":\"#E5ECF6\",\"width\":0.5},\"pattern\":{\"fillmode\":\"overlay\",\"size\":10,\"solidity\":0.2}},\"type\":\"barpolar\"}],\"pie\":[{\"automargin\":true,\"type\":\"pie\"}]},\"layout\":{\"autotypenumbers\":\"strict\",\"colorway\":[\"#636efa\",\"#EF553B\",\"#00cc96\",\"#ab63fa\",\"#FFA15A\",\"#19d3f3\",\"#FF6692\",\"#B6E880\",\"#FF97FF\",\"#FECB52\"],\"font\":{\"color\":\"#2a3f5f\"},\"hovermode\":\"closest\",\"hoverlabel\":{\"align\":\"left\"},\"paper_bgcolor\":\"white\",\"plot_bgcolor\":\"#E5ECF6\",\"polar\":{\"bgcolor\":\"#E5ECF6\",\"angularaxis\":{\"gridcolor\":\"white\",\"linecolor\":\"white\",\"ticks\":\"\"},\"radialaxis\":{\"gridcolor\":\"white\",\"linecolor\":\"white\",\"ticks\":\"\"}},\"ternary\":{\"bgcolor\":\"#E5ECF6\",\"aaxis\":{\"gridcolor\":\"white\",\"linecolor\":\"white\",\"ticks\":\"\"},\"baxis\":{\"gridcolor\":\"white\",\"linecolor\":\"white\",\"ticks\":\"\"},\"caxis\":{\"gridcolor\":\"white\",\"linecolor\":\"white\",\"ticks\":\"\"}},\"coloraxis\":{\"colorbar\":{\"outlinewidth\":0,\"ticks\":\"\"}},\"colorscale\":{\"sequential\":[[0.0,\"#0d0887\"],[0.1111111111111111,\"#46039f\"],[0.2222222222222222,\"#7201a8\"],[0.3333333333333333,\"#9c179e\"],[0.4444444444444444,\"#bd3786\"],[0.5555555555555556,\"#d8576b\"],[0.6666666666666666,\"#ed7953\"],[0.7777777777777778,\"#fb9f3a\"],[0.8888888888888888,\"#fdca26\"],[1.0,\"#f0f921\"]],\"sequentialminus\":[[0.0,\"#0d0887\"],[0.1111111111111111,\"#46039f\"],[0.2222222222222222,\"#7201a8\"],[0.3333333333333333,\"#9c179e\"],[0.4444444444444444,\"#bd3786\"],[0.5555555555555556,\"#d8576b\"],[0.6666666666666666,\"#ed7953\"],[0.7777777777777778,\"#fb9f3a\"],[0.8888888888888888,\"#fdca26\"],[1.0,\"#f0f921\"]],\"diverging\":[[0,\"#8e0152\"],[0.1,\"#c51b7d\"],[0.2,\"#de77ae\"],[0.3,\"#f1b6da\"],[0.4,\"#fde0ef\"],[0.5,\"#f7f7f7\"],[0.6,\"#e6f5d0\"],[0.7,\"#b8e186\"],[0.8,\"#7fbc41\"],[0.9,\"#4d9221\"],[1,\"#276419\"]]},\"xaxis\":{\"gridcolor\":\"white\",\"linecolor\":\"white\",\"ticks\":\"\",\"title\":{\"standoff\":15},\"zerolinecolor\":\"white\",\"automargin\":true,\"zerolinewidth\":2},\"yaxis\":{\"gridcolor\":\"white\",\"linecolor\":\"white\",\"ticks\":\"\",\"title\":{\"standoff\":15},\"zerolinecolor\":\"white\",\"automargin\":true,\"zerolinewidth\":2},\"scene\":{\"xaxis\":{\"backgroundcolor\":\"#E5ECF6\",\"gridcolor\":\"white\",\"linecolor\":\"white\",\"showbackground\":true,\"ticks\":\"\",\"zerolinecolor\":\"white\",\"gridwidth\":2},\"yaxis\":{\"backgroundcolor\":\"#E5ECF6\",\"gridcolor\":\"white\",\"linecolor\":\"white\",\"showbackground\":true,\"ticks\":\"\",\"zerolinecolor\":\"white\",\"gridwidth\":2},\"zaxis\":{\"backgroundcolor\":\"#E5ECF6\",\"gridcolor\":\"white\",\"linecolor\":\"white\",\"showbackground\":true,\"ticks\":\"\",\"zerolinecolor\":\"white\",\"gridwidth\":2}},\"shapedefaults\":{\"line\":{\"color\":\"#2a3f5f\"}},\"annotationdefaults\":{\"arrowcolor\":\"#2a3f5f\",\"arrowhead\":0,\"arrowwidth\":1},\"geo\":{\"bgcolor\":\"white\",\"landcolor\":\"#E5ECF6\",\"subunitcolor\":\"white\",\"showland\":true,\"showlakes\":true,\"lakecolor\":\"white\"},\"title\":{\"x\":0.05},\"mapbox\":{\"style\":\"light\"}}},\"xaxis\":{\"anchor\":\"y\",\"domain\":[0.0,0.499],\"autorange\":\"reversed\"},\"yaxis\":{\"anchor\":\"x\",\"domain\":[0.0,1.0]},\"xaxis2\":{\"anchor\":\"y2\",\"domain\":[0.501,1.0]},\"yaxis2\":{\"anchor\":\"x2\",\"domain\":[0.0,1.0],\"visible\":false},\"margin\":{\"l\":10,\"r\":10,\"t\":30,\"b\":30},\"showlegend\":false,\"bargap\":0},                        {\"responsive\": true}                    )                };                            </script>        </div>"
      ],
      "text/plain": [
       "Figure({\n",
       "    'data': [{'alignmentgroup': 'True',\n",
       "              'hovertemplate': 'empresa=%{y}<br>quantidade_compra=%{text}<extra></extra>',\n",
       "              'legendgroup': 'Brasil Bitcoin',\n",
       "              'marker': {'color': '#636efa', 'pattern': {'shape': ''}},\n",
       "              'name': 'Brasil Bitcoin',\n",
       "              'offsetgroup': 'Brasil Bitcoin',\n",
       "              'orientation': 'h',\n",
       "              'showlegend': True,\n",
       "              'text': array([0.07249864]),\n",
       "              'textposition': 'auto',\n",
       "              'texttemplate': '%{text:.2s}',\n",
       "              'type': 'bar',\n",
       "              'x': array([0.07249864]),\n",
       "              'xaxis': 'x',\n",
       "              'y': array(['Brasil Bitcoin'], dtype=object),\n",
       "              'yaxis': 'y'},\n",
       "             {'alignmentgroup': 'True',\n",
       "              'hovertemplate': 'empresa=%{y}<br>quantidade_venda=%{text}<extra></extra>',\n",
       "              'legendgroup': 'Brasil Bitcoin',\n",
       "              'marker': {'color': '#636efa', 'pattern': {'shape': ''}},\n",
       "              'name': 'Brasil Bitcoin',\n",
       "              'offsetgroup': 'Brasil Bitcoin',\n",
       "              'orientation': 'h',\n",
       "              'showlegend': True,\n",
       "              'text': array([1.52145442]),\n",
       "              'textposition': 'auto',\n",
       "              'texttemplate': '%{text:.2s}',\n",
       "              'type': 'bar',\n",
       "              'x': array([1.52145442]),\n",
       "              'xaxis': 'x2',\n",
       "              'y': array(['Brasil Bitcoin'], dtype=object),\n",
       "              'yaxis': 'y2'},\n",
       "             {'alignmentgroup': 'True',\n",
       "              'hovertemplate': 'empresa=%{y}<br>quantidade_compra=%{text}<extra></extra>',\n",
       "              'legendgroup': 'Ripio Trade',\n",
       "              'marker': {'color': '#EF553B', 'pattern': {'shape': ''}},\n",
       "              'name': 'Ripio Trade',\n",
       "              'offsetgroup': 'Ripio Trade',\n",
       "              'orientation': 'h',\n",
       "              'showlegend': True,\n",
       "              'text': array([6.6e-07]),\n",
       "              'textposition': 'auto',\n",
       "              'texttemplate': '%{text:.2s}',\n",
       "              'type': 'bar',\n",
       "              'x': array([6.6e-07]),\n",
       "              'xaxis': 'x',\n",
       "              'y': array(['Ripio Trade'], dtype=object),\n",
       "              'yaxis': 'y'},\n",
       "             {'alignmentgroup': 'True',\n",
       "              'hovertemplate': 'empresa=%{y}<br>quantidade_venda=%{text}<extra></extra>',\n",
       "              'legendgroup': 'Ripio Trade',\n",
       "              'marker': {'color': '#EF553B', 'pattern': {'shape': ''}},\n",
       "              'name': 'Ripio Trade',\n",
       "              'offsetgroup': 'Ripio Trade',\n",
       "              'orientation': 'h',\n",
       "              'showlegend': True,\n",
       "              'text': array([0.18142831]),\n",
       "              'textposition': 'auto',\n",
       "              'texttemplate': '%{text:.2s}',\n",
       "              'type': 'bar',\n",
       "              'x': array([0.18142831]),\n",
       "              'xaxis': 'x2',\n",
       "              'y': array(['Ripio Trade'], dtype=object),\n",
       "              'yaxis': 'y2'},\n",
       "             {'alignmentgroup': 'True',\n",
       "              'hovertemplate': 'empresa=%{y}<br>quantidade_compra=%{text}<extra></extra>',\n",
       "              'legendgroup': 'Mercado Bitcoin',\n",
       "              'marker': {'color': '#00cc96', 'pattern': {'shape': ''}},\n",
       "              'name': 'Mercado Bitcoin',\n",
       "              'offsetgroup': 'Mercado Bitcoin',\n",
       "              'orientation': 'h',\n",
       "              'showlegend': True,\n",
       "              'text': array([0.0045]),\n",
       "              'textposition': 'auto',\n",
       "              'texttemplate': '%{text:.2s}',\n",
       "              'type': 'bar',\n",
       "              'x': array([0.0045]),\n",
       "              'xaxis': 'x',\n",
       "              'y': array(['Mercado Bitcoin'], dtype=object),\n",
       "              'yaxis': 'y'},\n",
       "             {'alignmentgroup': 'True',\n",
       "              'hovertemplate': 'empresa=%{y}<br>quantidade_venda=%{text}<extra></extra>',\n",
       "              'legendgroup': 'Mercado Bitcoin',\n",
       "              'marker': {'color': '#00cc96', 'pattern': {'shape': ''}},\n",
       "              'name': 'Mercado Bitcoin',\n",
       "              'offsetgroup': 'Mercado Bitcoin',\n",
       "              'orientation': 'h',\n",
       "              'showlegend': True,\n",
       "              'text': array([3.88764531]),\n",
       "              'textposition': 'auto',\n",
       "              'texttemplate': '%{text:.2s}',\n",
       "              'type': 'bar',\n",
       "              'x': array([3.88764531]),\n",
       "              'xaxis': 'x2',\n",
       "              'y': array(['Mercado Bitcoin'], dtype=object),\n",
       "              'yaxis': 'y2'},\n",
       "             {'alignmentgroup': 'True',\n",
       "              'hovertemplate': 'empresa=%{y}<br>quantidade_compra=%{text}<extra></extra>',\n",
       "              'legendgroup': 'Bitso Bitcoin',\n",
       "              'marker': {'color': '#ab63fa', 'pattern': {'shape': ''}},\n",
       "              'name': 'Bitso Bitcoin',\n",
       "              'offsetgroup': 'Bitso Bitcoin',\n",
       "              'orientation': 'h',\n",
       "              'showlegend': True,\n",
       "              'text': array([0.02797205]),\n",
       "              'textposition': 'auto',\n",
       "              'texttemplate': '%{text:.2s}',\n",
       "              'type': 'bar',\n",
       "              'x': array([0.02797205]),\n",
       "              'xaxis': 'x',\n",
       "              'y': array(['Bitso Bitcoin'], dtype=object),\n",
       "              'yaxis': 'y'},\n",
       "             {'alignmentgroup': 'True',\n",
       "              'hovertemplate': 'empresa=%{y}<br>quantidade_venda=%{text}<extra></extra>',\n",
       "              'legendgroup': 'Bitso Bitcoin',\n",
       "              'marker': {'color': '#ab63fa', 'pattern': {'shape': ''}},\n",
       "              'name': 'Bitso Bitcoin',\n",
       "              'offsetgroup': 'Bitso Bitcoin',\n",
       "              'orientation': 'h',\n",
       "              'showlegend': True,\n",
       "              'text': array([3.39646964]),\n",
       "              'textposition': 'auto',\n",
       "              'texttemplate': '%{text:.2s}',\n",
       "              'type': 'bar',\n",
       "              'x': array([3.39646964]),\n",
       "              'xaxis': 'x2',\n",
       "              'y': array(['Bitso Bitcoin'], dtype=object),\n",
       "              'yaxis': 'y2'},\n",
       "             {'alignmentgroup': 'True',\n",
       "              'hovertemplate': 'empresa=%{y}<br>quantidade_compra=%{text}<extra></extra>',\n",
       "              'legendgroup': 'Bity Preço',\n",
       "              'marker': {'color': '#FFA15A', 'pattern': {'shape': ''}},\n",
       "              'name': 'Bity Preço',\n",
       "              'offsetgroup': 'Bity Preço',\n",
       "              'orientation': 'h',\n",
       "              'showlegend': True,\n",
       "              'text': array([0.50330681]),\n",
       "              'textposition': 'auto',\n",
       "              'texttemplate': '%{text:.2s}',\n",
       "              'type': 'bar',\n",
       "              'x': array([0.50330681]),\n",
       "              'xaxis': 'x',\n",
       "              'y': array(['Bity Preço'], dtype=object),\n",
       "              'yaxis': 'y'},\n",
       "             {'alignmentgroup': 'True',\n",
       "              'hovertemplate': 'empresa=%{y}<br>quantidade_venda=%{text}<extra></extra>',\n",
       "              'legendgroup': 'Bity Preço',\n",
       "              'marker': {'color': '#FFA15A', 'pattern': {'shape': ''}},\n",
       "              'name': 'Bity Preço',\n",
       "              'offsetgroup': 'Bity Preço',\n",
       "              'orientation': 'h',\n",
       "              'showlegend': True,\n",
       "              'text': array([3.21216487]),\n",
       "              'textposition': 'auto',\n",
       "              'texttemplate': '%{text:.2s}',\n",
       "              'type': 'bar',\n",
       "              'x': array([3.21216487]),\n",
       "              'xaxis': 'x2',\n",
       "              'y': array(['Bity Preço'], dtype=object),\n",
       "              'yaxis': 'y2'}],\n",
       "    'layout': {'bargap': 0,\n",
       "               'margin': {'b': 30, 'l': 10, 'r': 10, 't': 30},\n",
       "               'showlegend': False,\n",
       "               'template': '...',\n",
       "               'xaxis': {'anchor': 'y', 'autorange': 'reversed', 'domain': [0.0, 0.499]},\n",
       "               'xaxis2': {'anchor': 'y2', 'domain': [0.501, 1.0]},\n",
       "               'yaxis': {'anchor': 'x', 'domain': [0.0, 1.0]},\n",
       "               'yaxis2': {'anchor': 'x2', 'domain': [0.0, 1.0], 'visible': False}}\n",
       "})"
      ]
     },
     "execution_count": 35,
     "metadata": {},
     "output_type": "execute_result"
    }
   ],
   "source": [
    "compra_qtd = px.bar(data_frame=changes, x='quantidade_compra', y='empresa', color='empresa', title='Quantidade de necessária para mudar o preço em 1 %.', width=600, height=400, text='quantidade_compra')\n",
    "\n",
    "venda_qtd = px.bar(data_frame=changes, x='quantidade_venda', y='empresa', color='empresa', title='Quantidade de necessária para mudar o preço em 1 %.', width=600, height=300, labels=None, text='quantidade_venda')\n",
    "\n",
    "\n",
    "compra_qtd.update_traces(texttemplate='%{text:.2s}')\n",
    "venda_qtd.update_traces(texttemplate='%{text:.2s}')\n",
    "fig = make_subplots(rows=1, cols=2, horizontal_spacing=0.002)\n",
    "\n",
    "n = len(empresas)\n",
    "\n",
    "for i in range(n):\n",
    "    fig.add_trace(compra_qtd.data[i], row=1, col=1)\n",
    "    fig.add_trace(venda_qtd.data[i], row=1, col=2)\n",
    "\n",
    "fig.update_layout(xaxis=dict(autorange='reversed'),\n",
    "                  showlegend=False,\n",
    "                  margin=dict(l=10, r=10, t=30, b=30),\n",
    "                  yaxis2=dict(visible=False),\n",
    "                  bargap=0\n",
    "                  )"
   ]
  }
 ],
 "metadata": {
  "kernelspec": {
   "display_name": "Python 3 (ipykernel)",
   "language": "python",
   "name": "python3"
  },
  "language_info": {
   "codemirror_mode": {
    "name": "ipython",
    "version": 3
   },
   "file_extension": ".py",
   "mimetype": "text/x-python",
   "name": "python",
   "nbconvert_exporter": "python",
   "pygments_lexer": "ipython3",
   "version": "3.8.13"
  }
 },
 "nbformat": 4,
 "nbformat_minor": 4
}
